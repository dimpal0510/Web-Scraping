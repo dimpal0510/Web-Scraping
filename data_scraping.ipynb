{
 "cells": [
  {
   "cell_type": "code",
   "execution_count": 13,
   "id": "e91617bf-dd2c-405f-9ad0-52e2981086ca",
   "metadata": {},
   "outputs": [
    {
     "ename": "AttributeError",
     "evalue": "'NoneType' object has no attribute 'find_all'",
     "output_type": "error",
     "traceback": [
      "\u001b[1;31m---------------------------------------------------------------------------\u001b[0m",
      "\u001b[1;31mAttributeError\u001b[0m                            Traceback (most recent call last)",
      "Cell \u001b[1;32mIn[13], line 38\u001b[0m\n\u001b[0;32m     35\u001b[0m     \u001b[38;5;28mprint\u001b[39m(\u001b[38;5;124m\"\u001b[39m\u001b[38;5;124mDone\u001b[39m\u001b[38;5;124m\"\u001b[39m)\n\u001b[0;32m     37\u001b[0m \u001b[38;5;28;01mif\u001b[39;00m \u001b[38;5;18m__name__\u001b[39m \u001b[38;5;241m==\u001b[39m \u001b[38;5;124m'\u001b[39m\u001b[38;5;124m__main__\u001b[39m\u001b[38;5;124m'\u001b[39m:\n\u001b[1;32m---> 38\u001b[0m     main()\n",
      "Cell \u001b[1;32mIn[13], line 32\u001b[0m, in \u001b[0;36mmain\u001b[1;34m()\u001b[0m\n\u001b[0;32m     30\u001b[0m ulr_parse \u001b[38;5;241m=\u001b[39m \u001b[38;5;124m\"\u001b[39m\u001b[38;5;124mhttps://en.wikipedia.org/wiki/Python_(programming_language)\u001b[39m\u001b[38;5;124m\"\u001b[39m\n\u001b[0;32m     31\u001b[0m file_name \u001b[38;5;241m=\u001b[39m \u001b[38;5;124m\"\u001b[39m\u001b[38;5;124mpython1.csv\u001b[39m\u001b[38;5;124m\"\u001b[39m\n\u001b[1;32m---> 32\u001b[0m data \u001b[38;5;241m=\u001b[39m get_data(ulr_parse)\n\u001b[0;32m     33\u001b[0m export_data(data, file_name)\n\u001b[0;32m     35\u001b[0m \u001b[38;5;28mprint\u001b[39m(\u001b[38;5;124m\"\u001b[39m\u001b[38;5;124mDone\u001b[39m\u001b[38;5;124m\"\u001b[39m)\n",
      "Cell \u001b[1;32mIn[13], line 12\u001b[0m, in \u001b[0;36mget_data\u001b[1;34m(url)\u001b[0m\n\u001b[0;32m      9\u001b[0m  table_of_contents \u001b[38;5;241m=\u001b[39m soup\u001b[38;5;241m.\u001b[39mfind(\u001b[38;5;124m\"\u001b[39m\u001b[38;5;124mdiv\u001b[39m\u001b[38;5;124m\"\u001b[39m,\u001b[38;5;28mid\u001b[39m \u001b[38;5;241m=\u001b[39m \u001b[38;5;124m\"\u001b[39m\u001b[38;5;124mtoc\u001b[39m\u001b[38;5;124m\"\u001b[39m)\n\u001b[0;32m     10\u001b[0m \u001b[38;5;66;03m# headings = table_of_contents.find_all('li')\u001b[39;00m\n\u001b[0;32m     11\u001b[0m  \u001b[38;5;66;03m#li = [\"h1\",\"h2\",\"h3\"]\u001b[39;00m\n\u001b[1;32m---> 12\u001b[0m  headings \u001b[38;5;241m=\u001b[39m table_of_contents\u001b[38;5;241m.\u001b[39mfind_all(\u001b[38;5;124m'\u001b[39m\u001b[38;5;124mli\u001b[39m\u001b[38;5;124m'\u001b[39m)\n\u001b[0;32m     13\u001b[0m  data \u001b[38;5;241m=\u001b[39m []\n\u001b[0;32m     14\u001b[0m  \u001b[38;5;28;01mfor\u001b[39;00m heading \u001b[38;5;129;01min\u001b[39;00m headings:\n",
      "\u001b[1;31mAttributeError\u001b[0m: 'NoneType' object has no attribute 'find_all'"
     ]
    }
   ],
   "source": [
    "import csv\n",
    "import requests\n",
    "from bs4 import BeautifulSoup\n",
    "from selenium import webdriver\n",
    "\n",
    "def get_data(url):\n",
    "    response = requests.get(url)\n",
    "    soup = BeautifulSoup(response.text, 'lxml')\n",
    "    table_of_contents = soup.find(\"div\",id = \"toc\")\n",
    "   # headings = table_of_contents.find_all('li')\n",
    "    #li = [\"h1\",\"h2\",\"h3\"]\n",
    "    headings = table_of_contents.find_all('li')\n",
    "    data = []\n",
    "    for heading in headings:\n",
    "        heading_text = heading.find(\"span\", class_ =\"toctext\").text\n",
    "        heading_number = heading.fing(\"span\", class_ = \"tocnumber\").text\n",
    "        data.append({\n",
    "            'heading_number': heading_number,\n",
    "            'heading_text' : heading_text\n",
    "        })\n",
    "        return data\n",
    "    \n",
    "def export_data(data, file_name):\n",
    "    with open(file_name, \"w\", new_file =\"\")as file:\n",
    "        writer = csv.DictWriter(file, fieldnames =['heading_nuber','heading_text'])\n",
    "        writer.writeheader()\n",
    "        writer.writerows(data)\n",
    "        \n",
    "def main():\n",
    "    ulr_parse = \"https://en.wikipedia.org/wiki/Python_(programming_language)\"\n",
    "    file_name = \"python1.csv\"\n",
    "    data = get_data(ulr_parse)\n",
    "    export_data(data, file_name)\n",
    "\n",
    "    print(\"Done\")\n",
    "\n",
    "if __name__ == '__main__':\n",
    "    main()"
   ]
  },
  {
   "cell_type": "code",
   "execution_count": 5,
   "id": "52a66e01-bdb6-42e1-8be2-e9fcd20f0885",
   "metadata": {},
   "outputs": [
    {
     "name": "stdout",
     "output_type": "stream",
     "text": [
      "this is with html tags : <title>Fun with python programming – A programming language for revolution</title>\n",
      "this is without html tags: Fun with python programming\n",
      "<a class=\"screen-reader-text skip-link\" href=\"#content\">Skip to content</a>\n"
     ]
    }
   ],
   "source": [
    "\n",
    "from bs4 import BeautifulSoup\n",
    "import requests\n",
    "\n",
    "\n",
    "url=\"https://getpython.wordpress.com/\"\n",
    "\n",
    "\n",
    "source=requests.get(url)\n",
    "\n",
    "\n",
    "soup=BeautifulSoup(source.text,'html')\n",
    "\n",
    "\n",
    "title=soup.find('title') \n",
    "print(\"this is with html tags :\",title)\n",
    "\n",
    "qwery=soup.find('h1') \n",
    "\n",
    "\n",
    "print(\"this is without html tags:\",qwery.text) \n",
    "\n",
    "\n",
    "links=soup.find('a') \n",
    "print(links)"
   ]
  },
  {
   "cell_type": "code",
   "execution_count": 7,
   "id": "82e1de2a-8343-4618-b676-9b895128207f",
   "metadata": {},
   "outputs": [
    {
     "name": "stdout",
     "output_type": "stream",
     "text": [
      "#content\n"
     ]
    }
   ],
   "source": [
    "print(links['href'])"
   ]
  },
  {
   "cell_type": "code",
   "execution_count": 9,
   "id": "04d65243-a783-420b-b573-3b7afcb48313",
   "metadata": {},
   "outputs": [
    {
     "name": "stdout",
     "output_type": "stream",
     "text": [
      "['screen-reader-text', 'skip-link']\n"
     ]
    }
   ],
   "source": [
    "print(links['class'])"
   ]
  },
  {
   "cell_type": "code",
   "execution_count": null,
   "id": "18722b50-3d4b-40eb-bed7-9945b921ac18",
   "metadata": {},
   "outputs": [],
   "source": []
  }
 ],
 "metadata": {
  "kernelspec": {
   "display_name": "Python 3 (ipykernel)",
   "language": "python",
   "name": "python3"
  },
  "language_info": {
   "codemirror_mode": {
    "name": "ipython",
    "version": 3
   },
   "file_extension": ".py",
   "mimetype": "text/x-python",
   "name": "python",
   "nbconvert_exporter": "python",
   "pygments_lexer": "ipython3",
   "version": "3.12.7"
  }
 },
 "nbformat": 4,
 "nbformat_minor": 5
}
